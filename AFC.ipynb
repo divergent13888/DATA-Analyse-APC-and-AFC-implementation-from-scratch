{
 "cells": [
  {
   "attachments": {},
   "cell_type": "markdown",
   "metadata": {},
   "source": [
    "## Dependacies "
   ]
  },
  {
   "cell_type": "code",
   "execution_count": 165,
   "metadata": {},
   "outputs": [],
   "source": [
    "import numpy as np\n",
    "import pandas as pd\n",
    "import matplotlib.pyplot as plt"
   ]
  },
  {
   "attachments": {},
   "cell_type": "markdown",
   "metadata": {},
   "source": [
    "## Matrice des données"
   ]
  },
  {
   "cell_type": "code",
   "execution_count": 166,
   "metadata": {},
   "outputs": [],
   "source": [
    "matrice_np = np.array([\n",
    "    [54861, 22559, 48293, 17078, 11491, 4407],\n",
    "    [37317, 69373, 21693, 42371, 4342, 4029],\n",
    "    [21291, 62736, 3874, 13186, 907, 1839],\n",
    "    [17850, 48691, 5853, 17672, 2401, 4531],\n",
    "    [17253, 8248, 4172, 1963, 328, 188],\n",
    "    [12388, 18574, 2884, 4183, 0, 0],\n",
    "    [41050, 94346, 20447, 43016, 6972, 7787],\n",
    "    [726, 1779, 811, 2356, 15, 13],\n",
    "    [37157, 38387, 26929, 29466, 2552, 1983],\n",
    "    [15004, 24318, 8457, 11090, 5232, 5641]\n",
    "])"
   ]
  },
  {
   "attachments": {},
   "cell_type": "markdown",
   "metadata": {},
   "source": [
    "## 1) Matrice des fréquences relatives/ Fréquences marginales (lignes)/ (colonnes)"
   ]
  },
  {
   "cell_type": "code",
   "execution_count": 167,
   "metadata": {},
   "outputs": [
    {
     "name": "stdout",
     "output_type": "stream",
     "text": [
      "1- Matrice des fréquences relatives :\n",
      "          0         1         2         3         4         5\n",
      "0  0.053039  0.021810  0.046689  0.016511  0.011109  0.004261\n",
      "1  0.036077  0.067069  0.020972  0.040963  0.004198  0.003895\n",
      "2  0.020584  0.060652  0.003745  0.012748  0.000877  0.001778\n",
      "3  0.017257  0.047074  0.005659  0.017085  0.002321  0.004380\n",
      "4  0.016680  0.007974  0.004033  0.001898  0.000317  0.000182\n",
      "5  0.011976  0.017957  0.002788  0.004044  0.000000  0.000000\n",
      "6  0.039686  0.091212  0.019768  0.041587  0.006740  0.007528\n",
      "7  0.000702  0.001720  0.000784  0.002278  0.000015  0.000013\n",
      "8  0.035923  0.037112  0.026034  0.028487  0.002467  0.001917\n",
      "9  0.014506  0.023510  0.008176  0.010722  0.005058  0.005454\n",
      "\n",
      "Fréquences marginales (lignes) :\n",
      "[0.15341757 0.17317472 0.10038381 0.09377586 0.03108396 0.03676573\n",
      " 0.20652191 0.00551065 0.13194052 0.06742527]\n",
      "\n",
      "Fréquences marginales (colonnes) :\n",
      "[0.24642968 0.3760886  0.13864902 0.17632256 0.03310259 0.02940756]\n",
      "\n"
     ]
    }
   ],
   "source": [
    "# 1) Matrice des fréquences relatives\n",
    "matrice_freq_relatives = matrice_np / np.sum(matrice_np)\n",
    "print(\"1- Matrice des fréquences relatives :\")\n",
    "print(pd.DataFrame(matrice_freq_relatives))\n",
    "print()\n",
    "\n",
    "# Fréquences marginales (lignes)\n",
    "frequence_marginales_lignes = np.sum(matrice_freq_relatives, axis=1)\n",
    "print(\"Fréquences marginales (lignes) :\")\n",
    "print(frequence_marginales_lignes)  \n",
    "print()\n",
    "\n",
    "# Fréquences marginales (colonnes)\n",
    "frequence_marginales_colonnes = np.sum(matrice_freq_relatives, axis=0)\n",
    "print(\"Fréquences marginales (colonnes) :\")\n",
    "print(frequence_marginales_colonnes)\n",
    "print()\n"
   ]
  },
  {
   "attachments": {},
   "cell_type": "markdown",
   "metadata": {},
   "source": [
    "##  2) Matrices des profils lignes et colonnes\n",
    "\n"
   ]
  },
  {
   "cell_type": "code",
   "execution_count": 168,
   "metadata": {},
   "outputs": [
    {
     "name": "stdout",
     "output_type": "stream",
     "text": [
      "2- Matrice des profils lignes :\n",
      "          0         1         2         3         4         5\n",
      "0  0.345714  0.142159  0.304325  0.107619  0.072412  0.027771\n",
      "1  0.208329  0.387288  0.121105  0.236544  0.024240  0.022493\n",
      "2  0.205050  0.604201  0.037310  0.126992  0.008735  0.017711\n",
      "3  0.184024  0.501979  0.060341  0.182189  0.024753  0.046712\n",
      "4  0.536607  0.256531  0.129759  0.061054  0.010202  0.005847\n",
      "5  0.325751  0.488417  0.075837  0.109995  0.000000  0.000000\n",
      "6  0.192165  0.441658  0.095718  0.201369  0.032638  0.036453\n",
      "7  0.127368  0.312105  0.142281  0.413333  0.002632  0.002281\n",
      "8  0.272264  0.281277  0.197320  0.215909  0.018700  0.014530\n",
      "9  0.215136  0.348685  0.121261  0.159015  0.075019  0.080884\n",
      "\n",
      "Matrice des profils colonnes :\n",
      "          0         1         2         3         4         5\n",
      "0  0.215228  0.057991  0.336741  0.093639  0.335602  0.144881\n",
      "1  0.146400  0.178332  0.151262  0.232321  0.126811  0.132454\n",
      "2  0.083528  0.161271  0.027013  0.072299  0.026489  0.060458\n",
      "3  0.070028  0.125166  0.040812  0.096896  0.070123  0.148958\n",
      "4  0.067686  0.021202  0.029091  0.010763  0.009579  0.006181\n",
      "5  0.048600  0.047747  0.020110  0.022936  0.000000  0.000000\n",
      "6  0.161045  0.242528  0.142574  0.235858  0.203621  0.256000\n",
      "7  0.002848  0.004573  0.005655  0.012918  0.000438  0.000427\n",
      "8  0.145773  0.098678  0.187772  0.161563  0.074533  0.065192\n",
      "9  0.058863  0.062512  0.058970  0.060807  0.152804  0.185449\n",
      "\n"
     ]
    }
   ],
   "source": [
    "matrice_profils_lignes = matrice_np / np.sum(matrice_np, axis=1, keepdims=True)\n",
    "matrice_profils_colonnes = matrice_np / np.sum(matrice_np, axis=0, keepdims=True)\n",
    "print(\"2- Matrice des profils lignes :\")\n",
    "print(pd.DataFrame(matrice_profils_lignes))\n",
    "print(\"\\nMatrice des profils colonnes :\")\n",
    "print(pd.DataFrame(matrice_profils_colonnes))\n",
    "print()"
   ]
  },
  {
   "attachments": {},
   "cell_type": "markdown",
   "metadata": {},
   "source": [
    "## 3) Calcul de l'ACP pour les profils-lignes\n"
   ]
  },
  {
   "cell_type": "code",
   "execution_count": 169,
   "metadata": {},
   "outputs": [
    {
     "name": "stdout",
     "output_type": "stream",
     "text": [
      "3- Valeurs propres (Profils-Lignes) :\n",
      "[ 2.87417748e-02  1.67053665e-02  3.01696877e-03  7.71367944e-04\n",
      " -2.40191413e-18  1.53553750e-05]\n",
      "\n",
      "Taux d'inertie (Profils-Lignes) :\n",
      "[ 5.83579461e-01  3.39189519e-01  6.12572126e-02  1.56620283e-02\n",
      "  3.11778989e-04 -4.87690048e-17]\n",
      "\n",
      "Taux cumulés de l'information retenue (Profils-Lignes) :\n",
      "[0.58357946 0.92276898 0.98402619 0.99968822 1.         1.        ]\n",
      "\n",
      "       Valeurs Propres  Taux d'Inertie  Taux Cumulé\n",
      "Axe 1     2.874177e-02    5.835795e-01     0.583579\n",
      "Axe 2     1.670537e-02    3.391895e-01     0.922769\n",
      "Axe 3     3.016969e-03    6.125721e-02     0.984026\n",
      "Axe 4     7.713679e-04    1.566203e-02     0.999688\n",
      "Axe 5     1.535538e-05    3.117790e-04     1.000000\n",
      "Axe 6    -2.401914e-18   -4.876900e-17     1.000000\n"
     ]
    },
    {
     "data": {
      "image/png": "[encoded data removed]",
      "text/plain": [
       "<Figure size 432x288 with 1 Axes>"
      ]
     },
     "metadata": {
      "needs_background": "light"
     },
     "output_type": "display_data"
    },
    {
     "name": "stdout",
     "output_type": "stream",
     "text": [
      "Taux d'inertie (Profils-Colonnes) :\n",
      "[0.69549837 0.20148608 0.084113   0.01429943 0.00326227 0.00134085]\n",
      "\n",
      "Taux cumulés de l'information retenue (Profils-Colonnes) :\n",
      "[0.69549837 0.89698445 0.98109745 0.99539688 0.99865915 1.        ]\n",
      "\n",
      "       Valeurs Propres  Taux d'Inertie  Taux Cumulé\n",
      "Axe 1         0.032865        0.695498     0.695498\n",
      "Axe 2         0.009521        0.201486     0.896984\n",
      "Axe 3         0.003975        0.084113     0.981097\n",
      "Axe 4         0.000676        0.014299     0.995397\n",
      "Axe 5         0.000154        0.003262     0.998659\n",
      "Axe 6         0.000063        0.001341     1.000000\n"
     ]
    },
    {
     "data": {
      "image/png": "[encoded data removed]",
      "text/plain": [
       "<Figure size 432x288 with 1 Axes>"
      ]
     },
     "metadata": {
      "needs_background": "light"
     },
     "output_type": "display_data"
    }
   ],
   "source": [
    "#matrice_covariance + val propre + vecteur propre\n",
    "matrice_covariance_lignes = np.cov(matrice_profils_lignes, rowvar=False)\n",
    "valeurs_propres_lignes, vecteurs_propres_lignes = np.linalg.eig(matrice_covariance_lignes)\n",
    "matrice_covariance_colonnes = np.cov(matrice_profils_colonnes, rowvar=False)\n",
    "valeurs_propres_colonnes, vecteurs_propres_colonnes = np.linalg.eig(matrice_covariance_colonnes)\n",
    "# Valeurs propres\n",
    "print(\"3- Valeurs propres (Profils-Lignes) :\")\n",
    "print(valeurs_propres_lignes)\n",
    "print()\n",
    "\n",
    "# Trier les valeurs propres et vecteurs propres par ordre décroissant\n",
    "# ligne \n",
    "indices_tries = np.argsort(valeurs_propres_lignes)[::-1]\n",
    "valeurs_propres_lignes_trié = valeurs_propres_lignes[indices_tries]\n",
    "vecteurs_propres_lignes_trié = vecteurs_propres_lignes[:, indices_tries]\n",
    "\n",
    "# colonne\n",
    "indices_tries = np.argsort(valeurs_propres_colonnes)[::-1]\n",
    "valeurs_propres_colonnes_trié = valeurs_propres_colonnes[indices_tries]\n",
    "vecteurs_propres_colonnes_trié = vecteurs_propres_colonnes[:, indices_tries]\n",
    "\n",
    "# Taux d'inertie (Profils-Lignes)\n",
    "inertie_totale_lignes = np.sum(valeurs_propres_lignes_trié)\n",
    "taux_inertie_lignes = valeurs_propres_lignes_trié / inertie_totale_lignes\n",
    "print(\"Taux d'inertie (Profils-Lignes) :\")\n",
    "print(taux_inertie_lignes)\n",
    "print()\n",
    "\n",
    "# Taux cumulés de l'information retenue (Profils-Lignes)\n",
    "taux_cumules_lignes = np.cumsum(taux_inertie_lignes)\n",
    "print(\"Taux cumulés de l'information retenue (Profils-Lignes) :\")\n",
    "print(taux_cumules_lignes)\n",
    "print()\n",
    "\n",
    "# Affichage du tableau résumant les informations\n",
    "tableau_resume = pd.DataFrame({\n",
    "    'Valeurs Propres': valeurs_propres_lignes_trié,\n",
    "    'Taux d\\'Inertie': taux_inertie_lignes,\n",
    "    'Taux Cumulé': taux_cumules_lignes\n",
    "}, index=['Axe {}'.format(i+1) for i in range(len(valeurs_propres_lignes_trié))])\n",
    "\n",
    "print(tableau_resume)\n",
    "\n",
    "# Graphique des valeurs propres\n",
    "plt.plot(np.arange(1, len(valeurs_propres_lignes_trié)+1), valeurs_propres_lignes_trié, marker='o')\n",
    "plt.xlabel('Axe Principal')\n",
    "plt.ylabel('Valeur Propre')\n",
    "plt.title('Graphique des Valeurs Propres')\n",
    "plt.show()\n",
    "\n",
    "\n",
    "#taux d'inertie (profils colonnes)\n",
    "inertie_totale_colonnes = np.sum(valeurs_propres_colonnes_trié)\n",
    "taux_inertie_colonnes = valeurs_propres_colonnes_trié / inertie_totale_colonnes\n",
    "print(\"Taux d'inertie (Profils-Colonnes) :\")\n",
    "print(taux_inertie_colonnes)\n",
    "print()\n",
    "#taux cumulé (profils colonnes)\n",
    "taux_cumules_colonnes = np.cumsum(taux_inertie_colonnes)\n",
    "print(\"Taux cumulés de l'information retenue (Profils-Colonnes) :\")\n",
    "print(taux_cumules_colonnes)\n",
    "print()\n",
    "# Affichage du tableau résumant les informations\n",
    "tableau_resume = pd.DataFrame({\n",
    "    'Valeurs Propres': valeurs_propres_colonnes_trié,\n",
    "    'Taux d\\'Inertie': taux_inertie_colonnes,\n",
    "    'Taux Cumulé': taux_cumules_colonnes\n",
    "}, index=['Axe {}'.format(i+1) for i in range(len(valeurs_propres_colonnes_trié))])\n",
    "print(tableau_resume)\n",
    "\n",
    "# Graphique des valeurs propres colonnes\n",
    "plt.plot(np.arange(1, len(valeurs_propres_colonnes_trié)+1), valeurs_propres_colonnes_trié, marker='o')\n",
    "plt.xlabel('Axe Principal')\n",
    "plt.ylabel('Valeur Propre')\n",
    "plt.title('Graphique des Valeurs Propres')\n",
    "plt.show()"
   ]
  },
  {
   "attachments": {},
   "cell_type": "markdown",
   "metadata": {},
   "source": [
    "## 4) Axes principaux de l'ACP des profils-lignes et profils-colonnes"
   ]
  },
  {
   "cell_type": "code",
   "execution_count": 170,
   "metadata": {},
   "outputs": [
    {
     "name": "stdout",
     "output_type": "stream",
     "text": [
      "4- Axes principaux de l'ACP des profils-lignes :\n",
      "[[ 0.53407553 -0.53594707]\n",
      " [-0.7267241  -0.45002916]\n",
      " [ 0.36875898  0.26991979]\n",
      " [-0.21608388  0.65985282]\n",
      " [ 0.05974257  0.0421131 ]\n",
      " [-0.0197691   0.01409052]]\n",
      "\n",
      "Axes principaux de l'ACP des profils-colonnes :\n",
      "[[ 0.32837475  0.09359275]\n",
      " [ 0.24402906 -0.6008595 ]\n",
      " [ 0.50377767  0.4627104 ]\n",
      " [ 0.35664161 -0.45354717]\n",
      " [ 0.54866404  0.31621324]\n",
      " [ 0.38807529 -0.33228225]]\n",
      "\n"
     ]
    }
   ],
   "source": [
    "#Axes principaux de l'ACP des profils-lignes et profils-colonnes\n",
    "axes_principaux_lignes = vecteurs_propres_lignes_trié[:,:2]\n",
    "axes_principaux_colonnes = vecteurs_propres_colonnes_trié[:,:2]\n",
    "print(\"4- Axes principaux de l'ACP des profils-lignes :\")\n",
    "print(axes_principaux_lignes)\n",
    "print(\"\\nAxes principaux de l'ACP des profils-colonnes :\")\n",
    "print(axes_principaux_colonnes)\n",
    "print()"
   ]
  },
  {
   "attachments": {},
   "cell_type": "markdown",
   "metadata": {},
   "source": [
    "## 5) Facteurs lignes (Composantes principales)"
   ]
  },
  {
   "cell_type": "code",
   "execution_count": 171,
   "metadata": {},
   "outputs": [
    {
     "name": "stdout",
     "output_type": "stream",
     "text": [
      "5- Facteurs lignes (Composantes principales) :\n",
      "          0         1\n",
      "0  0.174072 -0.092663\n",
      "1 -0.175639 -0.095834\n",
      "2 -0.343086 -0.287320\n",
      "3 -0.283079 -0.186327\n",
      "4  0.135312 -0.327217\n",
      "5 -0.176771 -0.301337\n",
      "6 -0.225319 -0.141151\n",
      "7 -0.195525  0.102567\n",
      "8 -0.032062 -0.075781\n",
      "9 -0.125261 -0.130264\n",
      "\n"
     ]
    }
   ],
   "source": [
    "# facteurs lignes (composantes principales)\n",
    "facteurs_lignes = matrice_profils_lignes.dot(axes_principaux_lignes)\n",
    "print(\"5- Facteurs lignes (Composantes principales) :\")\n",
    "print(pd.DataFrame(facteurs_lignes))\n",
    "print()"
   ]
  },
  {
   "attachments": {},
   "cell_type": "markdown",
   "metadata": {},
   "source": [
    "## 6) Contributions relatives et absolues des lignes sur chaque axe\n"
   ]
  },
  {
   "cell_type": "code",
   "execution_count": 173,
   "metadata": {},
   "outputs": [
    {
     "name": "stdout",
     "output_type": "stream",
     "text": [
      "6- Contributions relatives des lignes sur chaque axe :\n",
      "          0         1\n",
      "0  0.000871  0.000143\n",
      "1  0.000887  0.000153\n",
      "2  0.003383  0.001379\n",
      "3  0.002303  0.000580\n",
      "4  0.000526  0.001789\n",
      "5  0.000898  0.001517\n",
      "6  0.001459  0.000333\n",
      "7  0.001099  0.000176\n",
      "8  0.000030  0.000096\n",
      "9  0.000451  0.000283\n",
      "\n",
      "Contributions absolues des lignes sur chaque axe :\n",
      "          0         1\n",
      "0  0.001492  0.000423\n",
      "1  0.001519  0.000452\n",
      "2  0.005797  0.004066\n",
      "3  0.003947  0.001710\n",
      "4  0.000902  0.005273\n",
      "5  0.001539  0.004472\n",
      "6  0.002500  0.000981\n",
      "7  0.001883  0.000518\n",
      "8  0.000051  0.000283\n",
      "9  0.000773  0.000836\n",
      "\n"
     ]
    }
   ],
   "source": [
    "contributions_relatives_lignes = np.square(facteurs_lignes) * np.tile(valeurs_propres_lignes_trié[:2], (len(matrice_np), 1))\n",
    "contributions_absolues_lignes = np.square(facteurs_lignes) * np.tile(inertie_totale_lignes, (len(matrice_np), 1))\n",
    "print(\"6- Contributions relatives des lignes sur chaque axe :\")\n",
    "print(pd.DataFrame(contributions_relatives_lignes))\n",
    "print(\"\\nContributions absolues des lignes sur chaque axe :\")\n",
    "print(pd.DataFrame(contributions_absolues_lignes))\n",
    "print()"
   ]
  },
  {
   "attachments": {},
   "cell_type": "markdown",
   "metadata": {},
   "source": [
    "## 7) Facteurs colonnes du nuage des profils-colonnes"
   ]
  },
  {
   "cell_type": "code",
   "execution_count": 175,
   "metadata": {},
   "outputs": [
    {
     "name": "stdout",
     "output_type": "stream",
     "text": [
      "7- Facteurs colonnes du nuage des profils-colonnes :\n",
      "   Facteurs Colonnes  Facteur 1  Facteur 2\n",
      "0                  1   0.528222   0.156623\n",
      "1                  2   0.371629  -0.132741\n",
      "2                  3   0.144172  -0.121088\n",
      "3                  4   0.204938  -0.121038\n",
      "4                  5   0.053549   0.003150\n",
      "5                  6   0.045921  -0.025238\n",
      "6                  7   0.479077  -0.192331\n",
      "7                  8   0.009913  -0.005727\n",
      "8                  9   0.290357  -0.030135\n",
      "9                 10   0.241784  -0.045648\n",
      "\n"
     ]
    }
   ],
   "source": [
    "# 7) Facteurs colonnes du nuage des profils-colonnes\n",
    "facteurs_colonnes = matrice_profils_colonnes.dot(axes_principaux_colonnes[:,:2])\n",
    "\n",
    "# Affichage des résultats\n",
    "tableau_facteurs_colonnes = pd.DataFrame({'Facteurs Colonnes': np.arange(1, len(facteurs_colonnes)+1),\n",
    "                                          'Facteur 1': facteurs_colonnes[:, 0],\n",
    "                                          'Facteur 2': facteurs_colonnes[:, 1]})\n",
    "print(\"7- Facteurs colonnes du nuage des profils-colonnes :\")\n",
    "print(tableau_facteurs_colonnes)\n",
    "print()"
   ]
  },
  {
   "attachments": {},
   "cell_type": "markdown",
   "metadata": {},
   "source": [
    "## 8) Facteur pour les profils-colonnes"
   ]
  },
  {
   "cell_type": "code",
   "execution_count": 176,
   "metadata": {},
   "outputs": [
    {
     "name": "stdout",
     "output_type": "stream",
     "text": [
      "8- Facteurs colonnes (Composantes principales) :\n",
      "          0         1\n",
      "0  0.528222  0.156623\n",
      "1  0.371629 -0.132741\n",
      "2  0.144172 -0.121088\n",
      "3  0.204938 -0.121038\n",
      "4  0.053549  0.003150\n",
      "5  0.045921 -0.025238\n",
      "6  0.479077 -0.192331\n",
      "7  0.009913 -0.005727\n",
      "8  0.290357 -0.030135\n",
      "9  0.241784 -0.045648\n",
      "\n"
     ]
    }
   ],
   "source": [
    "facteurs_colonnes = matrice_profils_colonnes.dot(axes_principaux_colonnes)\n",
    "print(\"8- Facteurs colonnes (Composantes principales) :\")\n",
    "print(pd.DataFrame(facteurs_colonnes))\n",
    "print()"
   ]
  },
  {
   "attachments": {},
   "cell_type": "markdown",
   "metadata": {},
   "source": [
    "\n",
    "## 9) Visualisation des deux nuages dans le nouveau plan principal"
   ]
  },
  {
   "cell_type": "code",
   "execution_count": 177,
   "metadata": {},
   "outputs": [
    {
     "data": {
      "image/png": "[encoded data removed]",
      "text/plain": [
       "<Figure size 432x288 with 1 Axes>"
      ]
     },
     "metadata": {
      "needs_background": "light"
     },
     "output_type": "display_data"
    }
   ],
   "source": [
    "plt.scatter(facteurs_lignes[:, 0], facteurs_lignes[:, 1], c='green', label='Profils-Lignes')\n",
    "plt.scatter(facteurs_colonnes[:, 0], facteurs_colonnes[:, 1], c='purple', label='Profils-Colonnes')\n",
    "\n",
    "# Étiquetage des points\n",
    "for i in range(len(facteurs_lignes)):\n",
    "    plt.annotate('L{}'.format(i+1), (facteurs_lignes[i, 0], facteurs_lignes[i, 1]), color='green')\n",
    "for i in range(len(facteurs_colonnes)):\n",
    "    plt.annotate('C{}'.format(i+1), (facteurs_colonnes[i, 0], facteurs_colonnes[i, 1]), color='purple')\n",
    "\n",
    "# Paramètres du graphique\n",
    "plt.xlabel('Axe 1')\n",
    "plt.ylabel('Axe 2')\n",
    "plt.legend()\n",
    "plt.title('Nuage des profils-lignes et profils-colonnes dans le nouveau plan principal')\n",
    "\n",
    "# Affichage du graphique\n",
    "plt.show()"
   ]
  },
  {
   "cell_type": "code",
   "execution_count": null,
   "metadata": {},
   "outputs": [],
   "source": []
  }
 ],
 "metadata": {
  "kernelspec": {
   "display_name": "base",
   "language": "python",
   "name": "python3"
  },
  "language_info": {
   "codemirror_mode": {
    "name": "ipython",
    "version": 3
   },
   "file_extension": ".py",
   "mimetype": "text/x-python",
   "name": "python",
   "nbconvert_exporter": "python",
   "pygments_lexer": "ipython3",
   "version": "3.7.11"
  },
  "orig_nbformat": 4
 },
 "nbformat": 4,
 "nbformat_minor": 2
}
